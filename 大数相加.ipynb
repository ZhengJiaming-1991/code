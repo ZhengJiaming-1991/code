{
 "cells": [
  {
   "cell_type": "markdown",
   "metadata": {},
   "source": [
    "## 大数加法"
   ]
  },
  {
   "cell_type": "code",
   "execution_count": 1,
   "metadata": {},
   "outputs": [],
   "source": [
    "import numpy as np"
   ]
  },
  {
   "cell_type": "code",
   "execution_count": 2,
   "metadata": {},
   "outputs": [],
   "source": [
    "# 定义两个大数\n",
    "num1 = \"111111111111111111111111111111111111111111111111118\"\n",
    "num2 = \"8888888888888888888888888888888882\""
   ]
  },
  {
   "cell_type": "code",
   "execution_count": 3,
   "metadata": {},
   "outputs": [],
   "source": [
    "def bignum(num1,num2):\n",
    "    \"\"\"\n",
    "    num1,num2:type should be str\n",
    "    \"\"\"\n",
    "    n = len(num1) if len(num1)>len(num2) else len(num2)\n",
    "    # 向左填充0，以防溢出\n",
    "    num1 = num1.rjust(n+1,\"0\")\n",
    "    num2 = num2.rjust(n+1,\"0\")\n",
    "    # 变为ndarray,并翻转\n",
    "    nd1 = np.array(list(num1),dtype=np.int8)[::-1]\n",
    "    nd2 = np.array(list(num2),dtype=np.int8)[::-1]\n",
    "    #求和\n",
    "    nd = nd1+nd2\n",
    "    # 判断是否超过10，超过的话，下一位+1\n",
    "    for i in range(len(nd)):\n",
    "        if nd[i]>9:\n",
    "            nd[i+1] += 1\n",
    "    # 定义一个结果，并将每一位数写入结果\n",
    "    sum_ = \"\"\n",
    "    for i in nd:\n",
    "        sum_+=str(i)[-1]\n",
    "    # 翻转结果，并去除左边多余的0\n",
    "    return sum_[::-1].lstrip(\"0\")"
   ]
  },
  {
   "cell_type": "code",
   "execution_count": 4,
   "metadata": {},
   "outputs": [
    {
     "name": "stdout",
     "output_type": "stream",
     "text": [
      "111111111111111120000000000000000000000000000000000\n"
     ]
    }
   ],
   "source": [
    "print(bignum(num1,num2))"
   ]
  },
  {
   "cell_type": "code",
   "execution_count": null,
   "metadata": {},
   "outputs": [],
   "source": []
  }
 ],
 "metadata": {
  "celltoolbar": "Slideshow",
  "kernelspec": {
   "display_name": "Python 3",
   "language": "python",
   "name": "python3"
  },
  "language_info": {
   "codemirror_mode": {
    "name": "ipython",
    "version": 3
   },
   "file_extension": ".py",
   "mimetype": "text/x-python",
   "name": "python",
   "nbconvert_exporter": "python",
   "pygments_lexer": "ipython3",
   "version": "3.7.0"
  }
 },
 "nbformat": 4,
 "nbformat_minor": 2
}
